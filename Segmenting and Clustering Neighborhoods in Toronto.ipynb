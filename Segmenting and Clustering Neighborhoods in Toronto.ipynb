{
 "cells": [
  {
   "cell_type": "markdown",
   "metadata": {},
   "source": [
    "# Coursera Peer-graded Assignment\n",
    "##### Part 3: Segmenting and Clustering Neighborhoods in Toronto"
   ]
  },
  {
   "cell_type": "markdown",
   "metadata": {},
   "source": [
    "Import necessary libraries."
   ]
  },
  {
   "cell_type": "code",
   "execution_count": 1,
   "metadata": {},
   "outputs": [],
   "source": [
    "import requests\n",
    "import numpy as np\n",
    "import pandas as pd\n",
    "\n",
    "from bs4 import BeautifulSoup"
   ]
  },
  {
   "cell_type": "markdown",
   "metadata": {},
   "source": [
    "Get the wikipedia page containing the neighborhood data."
   ]
  },
  {
   "cell_type": "code",
   "execution_count": 2,
   "metadata": {},
   "outputs": [],
   "source": [
    "wiki_url = 'https://en.wikipedia.org/wiki/List_of_postal_codes_of_Canada:_M'\n",
    "response = requests.get(wiki_url)"
   ]
  },
  {
   "cell_type": "markdown",
   "metadata": {},
   "source": [
    "Get the html table containing the neighborhood data."
   ]
  },
  {
   "cell_type": "code",
   "execution_count": 3,
   "metadata": {},
   "outputs": [],
   "source": [
    "wikipg = BeautifulSoup(response.text, 'html.parser')\n",
    "table = wikipg.body.find_all('table', 'wikitable sortable')[0]"
   ]
  },
  {
   "cell_type": "markdown",
   "metadata": {},
   "source": [
    "Convert html table to pandas dataframe."
   ]
  },
  {
   "cell_type": "code",
   "execution_count": 4,
   "metadata": {},
   "outputs": [
    {
     "data": {
      "text/html": [
       "<div>\n",
       "<style scoped>\n",
       "    .dataframe tbody tr th:only-of-type {\n",
       "        vertical-align: middle;\n",
       "    }\n",
       "\n",
       "    .dataframe tbody tr th {\n",
       "        vertical-align: top;\n",
       "    }\n",
       "\n",
       "    .dataframe thead th {\n",
       "        text-align: right;\n",
       "    }\n",
       "</style>\n",
       "<table border=\"1\" class=\"dataframe\">\n",
       "  <thead>\n",
       "    <tr style=\"text-align: right;\">\n",
       "      <th></th>\n",
       "      <th>Postcode</th>\n",
       "      <th>Borough</th>\n",
       "      <th>Neighbourhood</th>\n",
       "    </tr>\n",
       "  </thead>\n",
       "  <tbody>\n",
       "    <tr>\n",
       "      <th>0</th>\n",
       "      <td>M1A</td>\n",
       "      <td>Not assigned</td>\n",
       "      <td>Not assigned</td>\n",
       "    </tr>\n",
       "    <tr>\n",
       "      <th>1</th>\n",
       "      <td>M2A</td>\n",
       "      <td>Not assigned</td>\n",
       "      <td>Not assigned</td>\n",
       "    </tr>\n",
       "    <tr>\n",
       "      <th>2</th>\n",
       "      <td>M3A</td>\n",
       "      <td>North York</td>\n",
       "      <td>Parkwoods</td>\n",
       "    </tr>\n",
       "    <tr>\n",
       "      <th>3</th>\n",
       "      <td>M4A</td>\n",
       "      <td>North York</td>\n",
       "      <td>Victoria Village</td>\n",
       "    </tr>\n",
       "    <tr>\n",
       "      <th>4</th>\n",
       "      <td>M5A</td>\n",
       "      <td>Downtown Toronto</td>\n",
       "      <td>Harbourfront</td>\n",
       "    </tr>\n",
       "  </tbody>\n",
       "</table>\n",
       "</div>"
      ],
      "text/plain": [
       "  Postcode           Borough     Neighbourhood\n",
       "0      M1A      Not assigned      Not assigned\n",
       "1      M2A      Not assigned      Not assigned\n",
       "2      M3A        North York         Parkwoods\n",
       "3      M4A        North York  Victoria Village\n",
       "4      M5A  Downtown Toronto      Harbourfront"
      ]
     },
     "execution_count": 4,
     "metadata": {},
     "output_type": "execute_result"
    }
   ],
   "source": [
    "data = None\n",
    "for tr in table.tbody.find_all('tr'):\n",
    "    # extract headers\n",
    "    th = tr.find_all('th')\n",
    "    if len(th) > 0:\n",
    "        data = {t.text.strip(): [] for t in th}\n",
    "    else:\n",
    "        for hdr,entry in zip(data.keys(), tr.find_all('td')):\n",
    "            data[hdr].append(entry.text.strip())\n",
    "df = pd.DataFrame(data=data, columns=data.keys())\n",
    "df.head()"
   ]
  },
  {
   "cell_type": "markdown",
   "metadata": {},
   "source": [
    "Remove rows from the dataframe where Borough is unassigned."
   ]
  },
  {
   "cell_type": "code",
   "execution_count": 5,
   "metadata": {},
   "outputs": [
    {
     "name": "stdout",
     "output_type": "stream",
     "text": [
      "False\n",
      "False\n"
     ]
    }
   ],
   "source": [
    "def set_unassigned_neigh(row):\n",
    "    data = dict(zip(row.index.values, row.values))\n",
    "    if data['Neighbourhood'] == 'Not assigned':\n",
    "        data['Neighbourhood'] = data['Borough']\n",
    "    return pd.Series(data)\n",
    "\n",
    "df_assigned = df.loc[df['Borough'] != 'Not assigned']\n",
    "print('Not assigned' in df_assigned['Borough'].unique())\n",
    "df_assigned = df_assigned.apply(set_unassigned_neigh, axis=1)\n",
    "print('Not assigned' in df_assigned['Neighbourhood'].unique())"
   ]
  },
  {
   "cell_type": "code",
   "execution_count": 6,
   "metadata": {},
   "outputs": [
    {
     "data": {
      "text/html": [
       "<div>\n",
       "<style scoped>\n",
       "    .dataframe tbody tr th:only-of-type {\n",
       "        vertical-align: middle;\n",
       "    }\n",
       "\n",
       "    .dataframe tbody tr th {\n",
       "        vertical-align: top;\n",
       "    }\n",
       "\n",
       "    .dataframe thead th {\n",
       "        text-align: right;\n",
       "    }\n",
       "</style>\n",
       "<table border=\"1\" class=\"dataframe\">\n",
       "  <thead>\n",
       "    <tr style=\"text-align: right;\">\n",
       "      <th></th>\n",
       "      <th>Postcode</th>\n",
       "      <th>Borough</th>\n",
       "      <th>Neighbourhood</th>\n",
       "    </tr>\n",
       "  </thead>\n",
       "  <tbody>\n",
       "    <tr>\n",
       "      <th>2</th>\n",
       "      <td>M3A</td>\n",
       "      <td>North York</td>\n",
       "      <td>Parkwoods</td>\n",
       "    </tr>\n",
       "    <tr>\n",
       "      <th>3</th>\n",
       "      <td>M4A</td>\n",
       "      <td>North York</td>\n",
       "      <td>Victoria Village</td>\n",
       "    </tr>\n",
       "    <tr>\n",
       "      <th>4</th>\n",
       "      <td>M5A</td>\n",
       "      <td>Downtown Toronto</td>\n",
       "      <td>Harbourfront</td>\n",
       "    </tr>\n",
       "    <tr>\n",
       "      <th>5</th>\n",
       "      <td>M5A</td>\n",
       "      <td>Downtown Toronto</td>\n",
       "      <td>Regent Park</td>\n",
       "    </tr>\n",
       "    <tr>\n",
       "      <th>6</th>\n",
       "      <td>M6A</td>\n",
       "      <td>North York</td>\n",
       "      <td>Lawrence Heights</td>\n",
       "    </tr>\n",
       "  </tbody>\n",
       "</table>\n",
       "</div>"
      ],
      "text/plain": [
       "  Postcode           Borough     Neighbourhood\n",
       "2      M3A        North York         Parkwoods\n",
       "3      M4A        North York  Victoria Village\n",
       "4      M5A  Downtown Toronto      Harbourfront\n",
       "5      M5A  Downtown Toronto       Regent Park\n",
       "6      M6A        North York  Lawrence Heights"
      ]
     },
     "execution_count": 6,
     "metadata": {},
     "output_type": "execute_result"
    }
   ],
   "source": [
    "df_assigned.head()"
   ]
  },
  {
   "cell_type": "markdown",
   "metadata": {},
   "source": [
    "Combine neighborhoods in a single postal code area."
   ]
  },
  {
   "cell_type": "code",
   "execution_count": 7,
   "metadata": {},
   "outputs": [],
   "source": [
    "def join_neighborhoods(row):\n",
    "    fields = ['Borough', 'Neighbourhood']\n",
    "    borough = row[fields[0]].values.tolist()[0]\n",
    "    neighborhoods = ', '.join(row[fields[1]])\n",
    "    values = [borough, neighborhoods]\n",
    "    return pd.Series(dict(zip(fields, values)))\n",
    "\n",
    "df_joined = df_assigned.groupby('Postcode').apply(join_neighborhoods).reset_index()"
   ]
  },
  {
   "cell_type": "code",
   "execution_count": 8,
   "metadata": {},
   "outputs": [
    {
     "data": {
      "text/html": [
       "<div>\n",
       "<style scoped>\n",
       "    .dataframe tbody tr th:only-of-type {\n",
       "        vertical-align: middle;\n",
       "    }\n",
       "\n",
       "    .dataframe tbody tr th {\n",
       "        vertical-align: top;\n",
       "    }\n",
       "\n",
       "    .dataframe thead th {\n",
       "        text-align: right;\n",
       "    }\n",
       "</style>\n",
       "<table border=\"1\" class=\"dataframe\">\n",
       "  <thead>\n",
       "    <tr style=\"text-align: right;\">\n",
       "      <th></th>\n",
       "      <th>Postcode</th>\n",
       "      <th>Borough</th>\n",
       "      <th>Neighbourhood</th>\n",
       "    </tr>\n",
       "  </thead>\n",
       "  <tbody>\n",
       "    <tr>\n",
       "      <th>0</th>\n",
       "      <td>M1B</td>\n",
       "      <td>Scarborough</td>\n",
       "      <td>Rouge, Malvern</td>\n",
       "    </tr>\n",
       "    <tr>\n",
       "      <th>1</th>\n",
       "      <td>M1C</td>\n",
       "      <td>Scarborough</td>\n",
       "      <td>Highland Creek, Rouge Hill, Port Union</td>\n",
       "    </tr>\n",
       "    <tr>\n",
       "      <th>2</th>\n",
       "      <td>M1E</td>\n",
       "      <td>Scarborough</td>\n",
       "      <td>Guildwood, Morningside, West Hill</td>\n",
       "    </tr>\n",
       "    <tr>\n",
       "      <th>3</th>\n",
       "      <td>M1G</td>\n",
       "      <td>Scarborough</td>\n",
       "      <td>Woburn</td>\n",
       "    </tr>\n",
       "    <tr>\n",
       "      <th>4</th>\n",
       "      <td>M1H</td>\n",
       "      <td>Scarborough</td>\n",
       "      <td>Cedarbrae</td>\n",
       "    </tr>\n",
       "  </tbody>\n",
       "</table>\n",
       "</div>"
      ],
      "text/plain": [
       "  Postcode      Borough                           Neighbourhood\n",
       "0      M1B  Scarborough                          Rouge, Malvern\n",
       "1      M1C  Scarborough  Highland Creek, Rouge Hill, Port Union\n",
       "2      M1E  Scarborough       Guildwood, Morningside, West Hill\n",
       "3      M1G  Scarborough                                  Woburn\n",
       "4      M1H  Scarborough                               Cedarbrae"
      ]
     },
     "execution_count": 8,
     "metadata": {},
     "output_type": "execute_result"
    }
   ],
   "source": [
    "df_joined.head()"
   ]
  },
  {
   "cell_type": "markdown",
   "metadata": {},
   "source": [
    "Display the shape of the dataframe."
   ]
  },
  {
   "cell_type": "code",
   "execution_count": 9,
   "metadata": {},
   "outputs": [
    {
     "name": "stdout",
     "output_type": "stream",
     "text": [
      "Number of rows in the dataframe: 103\n"
     ]
    }
   ],
   "source": [
    "print('Number of rows in the dataframe: %d' %df_joined.shape[0])"
   ]
  },
  {
   "cell_type": "markdown",
   "metadata": {},
   "source": [
    "Import geocoder library needed for getting coordinates."
   ]
  },
  {
   "cell_type": "code",
   "execution_count": 10,
   "metadata": {},
   "outputs": [],
   "source": [
    "import geocoder"
   ]
  },
  {
   "cell_type": "markdown",
   "metadata": {},
   "source": [
    "Since, geocoder is not working. Load Geospatial data from csv."
   ]
  },
  {
   "cell_type": "code",
   "execution_count": 11,
   "metadata": {},
   "outputs": [
    {
     "data": {
      "text/html": [
       "<div>\n",
       "<style scoped>\n",
       "    .dataframe tbody tr th:only-of-type {\n",
       "        vertical-align: middle;\n",
       "    }\n",
       "\n",
       "    .dataframe tbody tr th {\n",
       "        vertical-align: top;\n",
       "    }\n",
       "\n",
       "    .dataframe thead th {\n",
       "        text-align: right;\n",
       "    }\n",
       "</style>\n",
       "<table border=\"1\" class=\"dataframe\">\n",
       "  <thead>\n",
       "    <tr style=\"text-align: right;\">\n",
       "      <th></th>\n",
       "      <th>Postal Code</th>\n",
       "      <th>Latitude</th>\n",
       "      <th>Longitude</th>\n",
       "    </tr>\n",
       "  </thead>\n",
       "  <tbody>\n",
       "    <tr>\n",
       "      <th>0</th>\n",
       "      <td>M1B</td>\n",
       "      <td>43.806686</td>\n",
       "      <td>-79.194353</td>\n",
       "    </tr>\n",
       "    <tr>\n",
       "      <th>1</th>\n",
       "      <td>M1C</td>\n",
       "      <td>43.784535</td>\n",
       "      <td>-79.160497</td>\n",
       "    </tr>\n",
       "    <tr>\n",
       "      <th>2</th>\n",
       "      <td>M1E</td>\n",
       "      <td>43.763573</td>\n",
       "      <td>-79.188711</td>\n",
       "    </tr>\n",
       "    <tr>\n",
       "      <th>3</th>\n",
       "      <td>M1G</td>\n",
       "      <td>43.770992</td>\n",
       "      <td>-79.216917</td>\n",
       "    </tr>\n",
       "    <tr>\n",
       "      <th>4</th>\n",
       "      <td>M1H</td>\n",
       "      <td>43.773136</td>\n",
       "      <td>-79.239476</td>\n",
       "    </tr>\n",
       "  </tbody>\n",
       "</table>\n",
       "</div>"
      ],
      "text/plain": [
       "  Postal Code   Latitude  Longitude\n",
       "0         M1B  43.806686 -79.194353\n",
       "1         M1C  43.784535 -79.160497\n",
       "2         M1E  43.763573 -79.188711\n",
       "3         M1G  43.770992 -79.216917\n",
       "4         M1H  43.773136 -79.239476"
      ]
     },
     "execution_count": 11,
     "metadata": {},
     "output_type": "execute_result"
    }
   ],
   "source": [
    "geodata = pd.read_csv('./Geospatial_Coordinates.csv')\n",
    "geodata.head()"
   ]
  },
  {
   "cell_type": "markdown",
   "metadata": {},
   "source": [
    "Define function to get coordinates for a particular postal code."
   ]
  },
  {
   "cell_type": "code",
   "execution_count": 12,
   "metadata": {},
   "outputs": [],
   "source": [
    "def get_coordinates(row):\n",
    "    rowdata = dict(zip(row.index.values, row.values))\n",
    "    postcode, borough = rowdata['Postcode'],rowdata['Borough']\n",
    "    rowdata['Latitude'] = geodata.loc[geodata['Postal Code']==postcode, 'Latitude'].values[0]\n",
    "    rowdata['Longitude'] = geodata.loc[geodata['Postal Code']==postcode, 'Longitude'].values[0]\n",
    "    return pd.Series(rowdata)"
   ]
  },
  {
   "cell_type": "code",
   "execution_count": 13,
   "metadata": {},
   "outputs": [
    {
     "data": {
      "text/html": [
       "<div>\n",
       "<style scoped>\n",
       "    .dataframe tbody tr th:only-of-type {\n",
       "        vertical-align: middle;\n",
       "    }\n",
       "\n",
       "    .dataframe tbody tr th {\n",
       "        vertical-align: top;\n",
       "    }\n",
       "\n",
       "    .dataframe thead th {\n",
       "        text-align: right;\n",
       "    }\n",
       "</style>\n",
       "<table border=\"1\" class=\"dataframe\">\n",
       "  <thead>\n",
       "    <tr style=\"text-align: right;\">\n",
       "      <th></th>\n",
       "      <th>Postcode</th>\n",
       "      <th>Borough</th>\n",
       "      <th>Neighbourhood</th>\n",
       "      <th>Latitude</th>\n",
       "      <th>Longitude</th>\n",
       "    </tr>\n",
       "  </thead>\n",
       "  <tbody>\n",
       "    <tr>\n",
       "      <th>0</th>\n",
       "      <td>M1B</td>\n",
       "      <td>Scarborough</td>\n",
       "      <td>Rouge, Malvern</td>\n",
       "      <td>43.806686</td>\n",
       "      <td>-79.194353</td>\n",
       "    </tr>\n",
       "    <tr>\n",
       "      <th>1</th>\n",
       "      <td>M1C</td>\n",
       "      <td>Scarborough</td>\n",
       "      <td>Highland Creek, Rouge Hill, Port Union</td>\n",
       "      <td>43.784535</td>\n",
       "      <td>-79.160497</td>\n",
       "    </tr>\n",
       "    <tr>\n",
       "      <th>2</th>\n",
       "      <td>M1E</td>\n",
       "      <td>Scarborough</td>\n",
       "      <td>Guildwood, Morningside, West Hill</td>\n",
       "      <td>43.763573</td>\n",
       "      <td>-79.188711</td>\n",
       "    </tr>\n",
       "    <tr>\n",
       "      <th>3</th>\n",
       "      <td>M1G</td>\n",
       "      <td>Scarborough</td>\n",
       "      <td>Woburn</td>\n",
       "      <td>43.770992</td>\n",
       "      <td>-79.216917</td>\n",
       "    </tr>\n",
       "    <tr>\n",
       "      <th>4</th>\n",
       "      <td>M1H</td>\n",
       "      <td>Scarborough</td>\n",
       "      <td>Cedarbrae</td>\n",
       "      <td>43.773136</td>\n",
       "      <td>-79.239476</td>\n",
       "    </tr>\n",
       "  </tbody>\n",
       "</table>\n",
       "</div>"
      ],
      "text/plain": [
       "  Postcode      Borough                           Neighbourhood   Latitude  \\\n",
       "0      M1B  Scarborough                          Rouge, Malvern  43.806686   \n",
       "1      M1C  Scarborough  Highland Creek, Rouge Hill, Port Union  43.784535   \n",
       "2      M1E  Scarborough       Guildwood, Morningside, West Hill  43.763573   \n",
       "3      M1G  Scarborough                                  Woburn  43.770992   \n",
       "4      M1H  Scarborough                               Cedarbrae  43.773136   \n",
       "\n",
       "   Longitude  \n",
       "0 -79.194353  \n",
       "1 -79.160497  \n",
       "2 -79.188711  \n",
       "3 -79.216917  \n",
       "4 -79.239476  "
      ]
     },
     "execution_count": 13,
     "metadata": {},
     "output_type": "execute_result"
    }
   ],
   "source": [
    "df_geo = df_joined.apply(get_coordinates, axis=1)\n",
    "df_geo.head()"
   ]
  },
  {
   "cell_type": "markdown",
   "metadata": {},
   "source": [
    "Rename headers properly."
   ]
  },
  {
   "cell_type": "code",
   "execution_count": 22,
   "metadata": {},
   "outputs": [
    {
     "data": {
      "text/html": [
       "<div>\n",
       "<style scoped>\n",
       "    .dataframe tbody tr th:only-of-type {\n",
       "        vertical-align: middle;\n",
       "    }\n",
       "\n",
       "    .dataframe tbody tr th {\n",
       "        vertical-align: top;\n",
       "    }\n",
       "\n",
       "    .dataframe thead th {\n",
       "        text-align: right;\n",
       "    }\n",
       "</style>\n",
       "<table border=\"1\" class=\"dataframe\">\n",
       "  <thead>\n",
       "    <tr style=\"text-align: right;\">\n",
       "      <th></th>\n",
       "      <th>PostalCode</th>\n",
       "      <th>Borough</th>\n",
       "      <th>Neighborhood</th>\n",
       "      <th>Latitude</th>\n",
       "      <th>Longitude</th>\n",
       "    </tr>\n",
       "  </thead>\n",
       "  <tbody>\n",
       "    <tr>\n",
       "      <th>0</th>\n",
       "      <td>M1B</td>\n",
       "      <td>Scarborough</td>\n",
       "      <td>Rouge, Malvern</td>\n",
       "      <td>43.806686</td>\n",
       "      <td>-79.194353</td>\n",
       "    </tr>\n",
       "    <tr>\n",
       "      <th>1</th>\n",
       "      <td>M1C</td>\n",
       "      <td>Scarborough</td>\n",
       "      <td>Highland Creek, Rouge Hill, Port Union</td>\n",
       "      <td>43.784535</td>\n",
       "      <td>-79.160497</td>\n",
       "    </tr>\n",
       "    <tr>\n",
       "      <th>2</th>\n",
       "      <td>M1E</td>\n",
       "      <td>Scarborough</td>\n",
       "      <td>Guildwood, Morningside, West Hill</td>\n",
       "      <td>43.763573</td>\n",
       "      <td>-79.188711</td>\n",
       "    </tr>\n",
       "    <tr>\n",
       "      <th>3</th>\n",
       "      <td>M1G</td>\n",
       "      <td>Scarborough</td>\n",
       "      <td>Woburn</td>\n",
       "      <td>43.770992</td>\n",
       "      <td>-79.216917</td>\n",
       "    </tr>\n",
       "    <tr>\n",
       "      <th>4</th>\n",
       "      <td>M1H</td>\n",
       "      <td>Scarborough</td>\n",
       "      <td>Cedarbrae</td>\n",
       "      <td>43.773136</td>\n",
       "      <td>-79.239476</td>\n",
       "    </tr>\n",
       "  </tbody>\n",
       "</table>\n",
       "</div>"
      ],
      "text/plain": [
       "  PostalCode      Borough                            Neighborhood   Latitude  \\\n",
       "0        M1B  Scarborough                          Rouge, Malvern  43.806686   \n",
       "1        M1C  Scarborough  Highland Creek, Rouge Hill, Port Union  43.784535   \n",
       "2        M1E  Scarborough       Guildwood, Morningside, West Hill  43.763573   \n",
       "3        M1G  Scarborough                                  Woburn  43.770992   \n",
       "4        M1H  Scarborough                               Cedarbrae  43.773136   \n",
       "\n",
       "   Longitude  \n",
       "0 -79.194353  \n",
       "1 -79.160497  \n",
       "2 -79.188711  \n",
       "3 -79.216917  \n",
       "4 -79.239476  "
      ]
     },
     "execution_count": 22,
     "metadata": {},
     "output_type": "execute_result"
    }
   ],
   "source": [
    "df_geo.rename(columns={\n",
    "    'Postcode': 'PostalCode',\n",
    "    'Neighbourhood': 'Neighborhood'\n",
    "}, inplace=True)\n",
    "df_geo.head()"
   ]
  },
  {
   "cell_type": "markdown",
   "metadata": {},
   "source": [
    "Get boroughs in Toronto."
   ]
  },
  {
   "cell_type": "code",
   "execution_count": 32,
   "metadata": {},
   "outputs": [],
   "source": [
    "df_toronto = pd.DataFrame(columns=df_geo.columns)\n",
    "j = 0\n",
    "for i, row in df_geo.iterrows():\n",
    "    if 'Toronto' in row.loc['Borough']:\n",
    "        df_toronto.loc[j,:] = row\n",
    "        j += 1"
   ]
  },
  {
   "cell_type": "code",
   "execution_count": 34,
   "metadata": {},
   "outputs": [
    {
     "data": {
      "text/html": [
       "<div>\n",
       "<style scoped>\n",
       "    .dataframe tbody tr th:only-of-type {\n",
       "        vertical-align: middle;\n",
       "    }\n",
       "\n",
       "    .dataframe tbody tr th {\n",
       "        vertical-align: top;\n",
       "    }\n",
       "\n",
       "    .dataframe thead th {\n",
       "        text-align: right;\n",
       "    }\n",
       "</style>\n",
       "<table border=\"1\" class=\"dataframe\">\n",
       "  <thead>\n",
       "    <tr style=\"text-align: right;\">\n",
       "      <th></th>\n",
       "      <th>PostalCode</th>\n",
       "      <th>Borough</th>\n",
       "      <th>Neighborhood</th>\n",
       "      <th>Latitude</th>\n",
       "      <th>Longitude</th>\n",
       "    </tr>\n",
       "  </thead>\n",
       "  <tbody>\n",
       "    <tr>\n",
       "      <th>0</th>\n",
       "      <td>M4E</td>\n",
       "      <td>East Toronto</td>\n",
       "      <td>The Beaches</td>\n",
       "      <td>43.6764</td>\n",
       "      <td>-79.293</td>\n",
       "    </tr>\n",
       "    <tr>\n",
       "      <th>1</th>\n",
       "      <td>M4K</td>\n",
       "      <td>East Toronto</td>\n",
       "      <td>The Danforth West, Riverdale</td>\n",
       "      <td>43.6796</td>\n",
       "      <td>-79.3522</td>\n",
       "    </tr>\n",
       "    <tr>\n",
       "      <th>2</th>\n",
       "      <td>M4L</td>\n",
       "      <td>East Toronto</td>\n",
       "      <td>The Beaches West, India Bazaar</td>\n",
       "      <td>43.669</td>\n",
       "      <td>-79.3156</td>\n",
       "    </tr>\n",
       "    <tr>\n",
       "      <th>3</th>\n",
       "      <td>M4M</td>\n",
       "      <td>East Toronto</td>\n",
       "      <td>Studio District</td>\n",
       "      <td>43.6595</td>\n",
       "      <td>-79.3409</td>\n",
       "    </tr>\n",
       "    <tr>\n",
       "      <th>4</th>\n",
       "      <td>M4N</td>\n",
       "      <td>Central Toronto</td>\n",
       "      <td>Lawrence Park</td>\n",
       "      <td>43.728</td>\n",
       "      <td>-79.3888</td>\n",
       "    </tr>\n",
       "  </tbody>\n",
       "</table>\n",
       "</div>"
      ],
      "text/plain": [
       "  PostalCode          Borough                    Neighborhood Latitude  \\\n",
       "0        M4E     East Toronto                     The Beaches  43.6764   \n",
       "1        M4K     East Toronto    The Danforth West, Riverdale  43.6796   \n",
       "2        M4L     East Toronto  The Beaches West, India Bazaar   43.669   \n",
       "3        M4M     East Toronto                 Studio District  43.6595   \n",
       "4        M4N  Central Toronto                   Lawrence Park   43.728   \n",
       "\n",
       "  Longitude  \n",
       "0   -79.293  \n",
       "1  -79.3522  \n",
       "2  -79.3156  \n",
       "3  -79.3409  \n",
       "4  -79.3888  "
      ]
     },
     "execution_count": 34,
     "metadata": {},
     "output_type": "execute_result"
    }
   ],
   "source": [
    "df_toronto.head()"
   ]
  },
  {
   "cell_type": "code",
   "execution_count": 35,
   "metadata": {},
   "outputs": [
    {
     "data": {
      "text/plain": [
       "(38, 5)"
      ]
     },
     "execution_count": 35,
     "metadata": {},
     "output_type": "execute_result"
    }
   ],
   "source": [
    "df_toronto.shape"
   ]
  },
  {
   "cell_type": "markdown",
   "metadata": {},
   "source": [
    "Display the boroughs on the map centered at Toronto."
   ]
  },
  {
   "cell_type": "code",
   "execution_count": 62,
   "metadata": {},
   "outputs": [],
   "source": [
    "import folium"
   ]
  },
  {
   "cell_type": "code",
   "execution_count": 39,
   "metadata": {},
   "outputs": [
    {
     "data": {
      "text/html": [
       "<div style=\"width:100%;\"><div style=\"position:relative;width:100%;height:0;padding-bottom:60%;\"><iframe src=\"data:text/html;charset=utf-8;base64,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\" style=\"position:absolute;width:100%;height:100%;left:0;top:0;border:none !important;\" allowfullscreen webkitallowfullscreen mozallowfullscreen></iframe></div></div>"
      ],
      "text/plain": [
       "<folium.folium.Map at 0x7f4316ce73c8>"
      ]
     },
     "execution_count": 39,
     "metadata": {},
     "output_type": "execute_result"
    }
   ],
   "source": [
    "latitude, longitude = 43.6532, -79.3832\n",
    "map_neigh = folium.Map(location=[latitude, longitude], zoom_start=12)\n",
    "for lat, lon, neigh in zip(df_toronto['Latitude'], df_toronto['Longitude'], df_toronto['Neighborhood']):\n",
    "    folium.CircleMarker(\n",
    "        [lat, lon],\n",
    "        radius=5,\n",
    "        popup=folium.Popup(str(neigh)),\n",
    "        color='blue',\n",
    "        fill=True).add_to(map_neigh)\n",
    "map_neigh"
   ]
  },
  {
   "cell_type": "markdown",
   "metadata": {},
   "source": [
    "Cluster the neighborhoods by boroughs."
   ]
  },
  {
   "cell_type": "code",
   "execution_count": 45,
   "metadata": {},
   "outputs": [
    {
     "data": {
      "text/html": [
       "<div>\n",
       "<style scoped>\n",
       "    .dataframe tbody tr th:only-of-type {\n",
       "        vertical-align: middle;\n",
       "    }\n",
       "\n",
       "    .dataframe tbody tr th {\n",
       "        vertical-align: top;\n",
       "    }\n",
       "\n",
       "    .dataframe thead th {\n",
       "        text-align: right;\n",
       "    }\n",
       "</style>\n",
       "<table border=\"1\" class=\"dataframe\">\n",
       "  <thead>\n",
       "    <tr style=\"text-align: right;\">\n",
       "      <th></th>\n",
       "      <th>Neighborhood</th>\n",
       "      <th>Central Toronto</th>\n",
       "      <th>Downtown Toronto</th>\n",
       "      <th>East Toronto</th>\n",
       "      <th>West Toronto</th>\n",
       "    </tr>\n",
       "  </thead>\n",
       "  <tbody>\n",
       "    <tr>\n",
       "      <th>0</th>\n",
       "      <td>The Beaches</td>\n",
       "      <td>0</td>\n",
       "      <td>0</td>\n",
       "      <td>1</td>\n",
       "      <td>0</td>\n",
       "    </tr>\n",
       "    <tr>\n",
       "      <th>1</th>\n",
       "      <td>The Danforth West, Riverdale</td>\n",
       "      <td>0</td>\n",
       "      <td>0</td>\n",
       "      <td>1</td>\n",
       "      <td>0</td>\n",
       "    </tr>\n",
       "    <tr>\n",
       "      <th>2</th>\n",
       "      <td>The Beaches West, India Bazaar</td>\n",
       "      <td>0</td>\n",
       "      <td>0</td>\n",
       "      <td>1</td>\n",
       "      <td>0</td>\n",
       "    </tr>\n",
       "    <tr>\n",
       "      <th>3</th>\n",
       "      <td>Studio District</td>\n",
       "      <td>0</td>\n",
       "      <td>0</td>\n",
       "      <td>1</td>\n",
       "      <td>0</td>\n",
       "    </tr>\n",
       "    <tr>\n",
       "      <th>4</th>\n",
       "      <td>Lawrence Park</td>\n",
       "      <td>1</td>\n",
       "      <td>0</td>\n",
       "      <td>0</td>\n",
       "      <td>0</td>\n",
       "    </tr>\n",
       "  </tbody>\n",
       "</table>\n",
       "</div>"
      ],
      "text/plain": [
       "                     Neighborhood  Central Toronto  Downtown Toronto  \\\n",
       "0                     The Beaches                0                 0   \n",
       "1    The Danforth West, Riverdale                0                 0   \n",
       "2  The Beaches West, India Bazaar                0                 0   \n",
       "3                 Studio District                0                 0   \n",
       "4                   Lawrence Park                1                 0   \n",
       "\n",
       "   East Toronto  West Toronto  \n",
       "0             1             0  \n",
       "1             1             0  \n",
       "2             1             0  \n",
       "3             1             0  \n",
       "4             0             0  "
      ]
     },
     "execution_count": 45,
     "metadata": {},
     "output_type": "execute_result"
    }
   ],
   "source": [
    "borough_onehot = pd.get_dummies(df_toronto[['Borough']], prefix='', prefix_sep='')\n",
    "borough_onehot['Neighborhood'] = df_toronto['Neighborhood']\n",
    "fixed_columns = [borough_onehot.columns[-1]] + list(borough_onehot.columns[:-1])\n",
    "toronto_onehot = borough_onehot[fixed_columns]\n",
    "toronto_onehot.head()"
   ]
  },
  {
   "cell_type": "code",
   "execution_count": 51,
   "metadata": {},
   "outputs": [
    {
     "data": {
      "text/html": [
       "<div>\n",
       "<style scoped>\n",
       "    .dataframe tbody tr th:only-of-type {\n",
       "        vertical-align: middle;\n",
       "    }\n",
       "\n",
       "    .dataframe tbody tr th {\n",
       "        vertical-align: top;\n",
       "    }\n",
       "\n",
       "    .dataframe thead th {\n",
       "        text-align: right;\n",
       "    }\n",
       "</style>\n",
       "<table border=\"1\" class=\"dataframe\">\n",
       "  <thead>\n",
       "    <tr style=\"text-align: right;\">\n",
       "      <th></th>\n",
       "      <th>PostalCode</th>\n",
       "      <th>Borough</th>\n",
       "      <th>Neighborhood</th>\n",
       "      <th>Latitude</th>\n",
       "      <th>Longitude</th>\n",
       "      <th>Cluster Labels</th>\n",
       "    </tr>\n",
       "  </thead>\n",
       "  <tbody>\n",
       "    <tr>\n",
       "      <th>0</th>\n",
       "      <td>M4E</td>\n",
       "      <td>East Toronto</td>\n",
       "      <td>The Beaches</td>\n",
       "      <td>43.6764</td>\n",
       "      <td>-79.293</td>\n",
       "      <td>0</td>\n",
       "    </tr>\n",
       "    <tr>\n",
       "      <th>1</th>\n",
       "      <td>M4K</td>\n",
       "      <td>East Toronto</td>\n",
       "      <td>The Danforth West, Riverdale</td>\n",
       "      <td>43.6796</td>\n",
       "      <td>-79.3522</td>\n",
       "      <td>0</td>\n",
       "    </tr>\n",
       "    <tr>\n",
       "      <th>2</th>\n",
       "      <td>M4L</td>\n",
       "      <td>East Toronto</td>\n",
       "      <td>The Beaches West, India Bazaar</td>\n",
       "      <td>43.669</td>\n",
       "      <td>-79.3156</td>\n",
       "      <td>0</td>\n",
       "    </tr>\n",
       "    <tr>\n",
       "      <th>3</th>\n",
       "      <td>M4M</td>\n",
       "      <td>East Toronto</td>\n",
       "      <td>Studio District</td>\n",
       "      <td>43.6595</td>\n",
       "      <td>-79.3409</td>\n",
       "      <td>0</td>\n",
       "    </tr>\n",
       "    <tr>\n",
       "      <th>4</th>\n",
       "      <td>M4N</td>\n",
       "      <td>Central Toronto</td>\n",
       "      <td>Lawrence Park</td>\n",
       "      <td>43.728</td>\n",
       "      <td>-79.3888</td>\n",
       "      <td>2</td>\n",
       "    </tr>\n",
       "  </tbody>\n",
       "</table>\n",
       "</div>"
      ],
      "text/plain": [
       "  PostalCode          Borough                    Neighborhood Latitude  \\\n",
       "0        M4E     East Toronto                     The Beaches  43.6764   \n",
       "1        M4K     East Toronto    The Danforth West, Riverdale  43.6796   \n",
       "2        M4L     East Toronto  The Beaches West, India Bazaar   43.669   \n",
       "3        M4M     East Toronto                 Studio District  43.6595   \n",
       "4        M4N  Central Toronto                   Lawrence Park   43.728   \n",
       "\n",
       "  Longitude  Cluster Labels  \n",
       "0   -79.293               0  \n",
       "1  -79.3522               0  \n",
       "2  -79.3156               0  \n",
       "3  -79.3409               0  \n",
       "4  -79.3888               2  "
      ]
     },
     "execution_count": 51,
     "metadata": {},
     "output_type": "execute_result"
    }
   ],
   "source": [
    "from sklearn.cluster import KMeans\n",
    "\n",
    "kclusters = 4 # four boroughs\n",
    "toronto_neigh_clustering = toronto_onehot.drop('Neighborhood', axis=1)\n",
    "kmeans = KMeans(n_clusters=kclusters, random_state=0).fit(toronto_neigh_clustering)\n",
    "df_toronto['Cluster Labels'] = kmeans.labels_\n",
    "df_toronto.head()"
   ]
  },
  {
   "cell_type": "markdown",
   "metadata": {},
   "source": [
    "Display the clusters on the map."
   ]
  },
  {
   "cell_type": "code",
   "execution_count": 61,
   "metadata": {},
   "outputs": [
    {
     "data": {
      "text/html": [
       "<div style=\"width:100%;\"><div style=\"position:relative;width:100%;height:0;padding-bottom:60%;\"><iframe src=\"data:text/html;charset=utf-8;base64,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\" style=\"position:absolute;width:100%;height:100%;left:0;top:0;border:none !important;\" allowfullscreen webkitallowfullscreen mozallowfullscreen></iframe></div></div>"
      ],
      "text/plain": [
       "<folium.folium.Map at 0x7f4312e6cd30>"
      ]
     },
     "execution_count": 61,
     "metadata": {},
     "output_type": "execute_result"
    }
   ],
   "source": [
    "toronto_map = folium.Map(location=[latitude, longitude], zoom_start=12)\n",
    "colors = ['blue', 'black', 'red', 'green']\n",
    "iterdata = zip(df_toronto['Latitude'],\n",
    "               df_toronto['Longitude'],\n",
    "               df_toronto['Neighborhood'],\n",
    "               df_toronto['Cluster Labels'])\n",
    "for lat, lon, poi, cluster in iterdata:\n",
    "    label = folium.Popup(str(poi), parse_html=True)\n",
    "    folium.CircleMarker(\n",
    "        [lat, lon],\n",
    "        radius=5,\n",
    "        popup=label,\n",
    "        color=colors[cluster],\n",
    "        fill=True,\n",
    "        fill_color=colors[cluster],\n",
    "        fill_opacity=0.7).add_to(toronto_map)\n",
    "toronto_map"
   ]
  },
  {
   "cell_type": "markdown",
   "metadata": {},
   "source": [
    "As we can see from the map the central boroughs have dense neighborhoods compared to others boroughs."
   ]
  }
 ],
 "metadata": {
  "kernelspec": {
   "display_name": "Python 3",
   "language": "python",
   "name": "python3"
  },
  "language_info": {
   "codemirror_mode": {
    "name": "ipython",
    "version": 3
   },
   "file_extension": ".py",
   "mimetype": "text/x-python",
   "name": "python",
   "nbconvert_exporter": "python",
   "pygments_lexer": "ipython3",
   "version": "3.7.3"
  }
 },
 "nbformat": 4,
 "nbformat_minor": 2
}
